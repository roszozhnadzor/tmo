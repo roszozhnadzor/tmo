{
  "nbformat": 4,
  "nbformat_minor": 0,
  "metadata": {
    "colab": {
      "provenance": []
    },
    "kernelspec": {
      "name": "python3",
      "display_name": "Python 3"
    },
    "language_info": {
      "name": "python"
    }
  },
  "cells": [
    {
      "cell_type": "code",
      "execution_count": null,
      "metadata": {
        "id": "c4Fgn5VvumNW"
      },
      "outputs": [],
      "source": [
        "import pandas as pd\n",
        "from sklearn.decomposition import PCA\n",
        "from sklearn.manifold import TSNE\n",
        "from sklearn.cluster import KMeans, DBSCAN, AgglomerativeClustering\n",
        "from sklearn.metrics import silhouette_score, davies_bouldin_score\n",
        "import matplotlib.pyplot as plt\n",
        "from sklearn.preprocessing import StandardScaler"
      ]
    },
    {
      "cell_type": "code",
      "source": [
        "# Загрузка данных\n",
        "df =pd.read_csv('AirQuality.csv', sep=';', decimal=',', na_values='-200')\n",
        "df.head(5)\n",
        "\n"
      ],
      "metadata": {
        "colab": {
          "base_uri": "https://localhost:8080/",
          "height": 285
        },
        "id": "gN4TjJVVuwBL",
        "outputId": "cddaec2b-16b5-4440-8ceb-9f1b73d4c351"
      },
      "execution_count": null,
      "outputs": [
        {
          "output_type": "execute_result",
          "data": {
            "text/plain": [
              "         Date      Time  CO(GT)  PT08.S1(CO)  NMHC(GT)  C6H6(GT)  \\\n",
              "0  10/03/2004  18.00.00     2.6       1360.0     150.0      11.9   \n",
              "1  10/03/2004  19.00.00     2.0       1292.0     112.0       9.4   \n",
              "2  10/03/2004  20.00.00     2.2       1402.0      88.0       9.0   \n",
              "3  10/03/2004  21.00.00     2.2       1376.0      80.0       9.2   \n",
              "4  10/03/2004  22.00.00     1.6       1272.0      51.0       6.5   \n",
              "\n",
              "   PT08.S2(NMHC)  NOx(GT)  PT08.S3(NOx)  NO2(GT)  PT08.S4(NO2)  PT08.S5(O3)  \\\n",
              "0         1046.0    166.0        1056.0    113.0        1692.0       1268.0   \n",
              "1          955.0    103.0        1174.0     92.0        1559.0        972.0   \n",
              "2          939.0    131.0        1140.0    114.0        1555.0       1074.0   \n",
              "3          948.0    172.0        1092.0    122.0        1584.0       1203.0   \n",
              "4          836.0    131.0        1205.0    116.0        1490.0       1110.0   \n",
              "\n",
              "      T    RH      AH  Unnamed: 15  Unnamed: 16  \n",
              "0  13.6  48.9  0.7578          NaN          NaN  \n",
              "1  13.3  47.7  0.7255          NaN          NaN  \n",
              "2  11.9  54.0  0.7502          NaN          NaN  \n",
              "3  11.0  60.0  0.7867          NaN          NaN  \n",
              "4  11.2  59.6  0.7888          NaN          NaN  "
            ],
            "text/html": [
              "\n",
              "  <div id=\"df-50525b91-a5b4-4f10-abd8-698a00c607f7\">\n",
              "    <div class=\"colab-df-container\">\n",
              "      <div>\n",
              "<style scoped>\n",
              "    .dataframe tbody tr th:only-of-type {\n",
              "        vertical-align: middle;\n",
              "    }\n",
              "\n",
              "    .dataframe tbody tr th {\n",
              "        vertical-align: top;\n",
              "    }\n",
              "\n",
              "    .dataframe thead th {\n",
              "        text-align: right;\n",
              "    }\n",
              "</style>\n",
              "<table border=\"1\" class=\"dataframe\">\n",
              "  <thead>\n",
              "    <tr style=\"text-align: right;\">\n",
              "      <th></th>\n",
              "      <th>Date</th>\n",
              "      <th>Time</th>\n",
              "      <th>CO(GT)</th>\n",
              "      <th>PT08.S1(CO)</th>\n",
              "      <th>NMHC(GT)</th>\n",
              "      <th>C6H6(GT)</th>\n",
              "      <th>PT08.S2(NMHC)</th>\n",
              "      <th>NOx(GT)</th>\n",
              "      <th>PT08.S3(NOx)</th>\n",
              "      <th>NO2(GT)</th>\n",
              "      <th>PT08.S4(NO2)</th>\n",
              "      <th>PT08.S5(O3)</th>\n",
              "      <th>T</th>\n",
              "      <th>RH</th>\n",
              "      <th>AH</th>\n",
              "      <th>Unnamed: 15</th>\n",
              "      <th>Unnamed: 16</th>\n",
              "    </tr>\n",
              "  </thead>\n",
              "  <tbody>\n",
              "    <tr>\n",
              "      <th>0</th>\n",
              "      <td>10/03/2004</td>\n",
              "      <td>18.00.00</td>\n",
              "      <td>2.6</td>\n",
              "      <td>1360.0</td>\n",
              "      <td>150.0</td>\n",
              "      <td>11.9</td>\n",
              "      <td>1046.0</td>\n",
              "      <td>166.0</td>\n",
              "      <td>1056.0</td>\n",
              "      <td>113.0</td>\n",
              "      <td>1692.0</td>\n",
              "      <td>1268.0</td>\n",
              "      <td>13.6</td>\n",
              "      <td>48.9</td>\n",
              "      <td>0.7578</td>\n",
              "      <td>NaN</td>\n",
              "      <td>NaN</td>\n",
              "    </tr>\n",
              "    <tr>\n",
              "      <th>1</th>\n",
              "      <td>10/03/2004</td>\n",
              "      <td>19.00.00</td>\n",
              "      <td>2.0</td>\n",
              "      <td>1292.0</td>\n",
              "      <td>112.0</td>\n",
              "      <td>9.4</td>\n",
              "      <td>955.0</td>\n",
              "      <td>103.0</td>\n",
              "      <td>1174.0</td>\n",
              "      <td>92.0</td>\n",
              "      <td>1559.0</td>\n",
              "      <td>972.0</td>\n",
              "      <td>13.3</td>\n",
              "      <td>47.7</td>\n",
              "      <td>0.7255</td>\n",
              "      <td>NaN</td>\n",
              "      <td>NaN</td>\n",
              "    </tr>\n",
              "    <tr>\n",
              "      <th>2</th>\n",
              "      <td>10/03/2004</td>\n",
              "      <td>20.00.00</td>\n",
              "      <td>2.2</td>\n",
              "      <td>1402.0</td>\n",
              "      <td>88.0</td>\n",
              "      <td>9.0</td>\n",
              "      <td>939.0</td>\n",
              "      <td>131.0</td>\n",
              "      <td>1140.0</td>\n",
              "      <td>114.0</td>\n",
              "      <td>1555.0</td>\n",
              "      <td>1074.0</td>\n",
              "      <td>11.9</td>\n",
              "      <td>54.0</td>\n",
              "      <td>0.7502</td>\n",
              "      <td>NaN</td>\n",
              "      <td>NaN</td>\n",
              "    </tr>\n",
              "    <tr>\n",
              "      <th>3</th>\n",
              "      <td>10/03/2004</td>\n",
              "      <td>21.00.00</td>\n",
              "      <td>2.2</td>\n",
              "      <td>1376.0</td>\n",
              "      <td>80.0</td>\n",
              "      <td>9.2</td>\n",
              "      <td>948.0</td>\n",
              "      <td>172.0</td>\n",
              "      <td>1092.0</td>\n",
              "      <td>122.0</td>\n",
              "      <td>1584.0</td>\n",
              "      <td>1203.0</td>\n",
              "      <td>11.0</td>\n",
              "      <td>60.0</td>\n",
              "      <td>0.7867</td>\n",
              "      <td>NaN</td>\n",
              "      <td>NaN</td>\n",
              "    </tr>\n",
              "    <tr>\n",
              "      <th>4</th>\n",
              "      <td>10/03/2004</td>\n",
              "      <td>22.00.00</td>\n",
              "      <td>1.6</td>\n",
              "      <td>1272.0</td>\n",
              "      <td>51.0</td>\n",
              "      <td>6.5</td>\n",
              "      <td>836.0</td>\n",
              "      <td>131.0</td>\n",
              "      <td>1205.0</td>\n",
              "      <td>116.0</td>\n",
              "      <td>1490.0</td>\n",
              "      <td>1110.0</td>\n",
              "      <td>11.2</td>\n",
              "      <td>59.6</td>\n",
              "      <td>0.7888</td>\n",
              "      <td>NaN</td>\n",
              "      <td>NaN</td>\n",
              "    </tr>\n",
              "  </tbody>\n",
              "</table>\n",
              "</div>\n",
              "      <button class=\"colab-df-convert\" onclick=\"convertToInteractive('df-50525b91-a5b4-4f10-abd8-698a00c607f7')\"\n",
              "              title=\"Convert this dataframe to an interactive table.\"\n",
              "              style=\"display:none;\">\n",
              "        \n",
              "  <svg xmlns=\"http://www.w3.org/2000/svg\" height=\"24px\"viewBox=\"0 0 24 24\"\n",
              "       width=\"24px\">\n",
              "    <path d=\"M0 0h24v24H0V0z\" fill=\"none\"/>\n",
              "    <path d=\"M18.56 5.44l.94 2.06.94-2.06 2.06-.94-2.06-.94-.94-2.06-.94 2.06-2.06.94zm-11 1L8.5 8.5l.94-2.06 2.06-.94-2.06-.94L8.5 2.5l-.94 2.06-2.06.94zm10 10l.94 2.06.94-2.06 2.06-.94-2.06-.94-.94-2.06-.94 2.06-2.06.94z\"/><path d=\"M17.41 7.96l-1.37-1.37c-.4-.4-.92-.59-1.43-.59-.52 0-1.04.2-1.43.59L10.3 9.45l-7.72 7.72c-.78.78-.78 2.05 0 2.83L4 21.41c.39.39.9.59 1.41.59.51 0 1.02-.2 1.41-.59l7.78-7.78 2.81-2.81c.8-.78.8-2.07 0-2.86zM5.41 20L4 18.59l7.72-7.72 1.47 1.35L5.41 20z\"/>\n",
              "  </svg>\n",
              "      </button>\n",
              "      \n",
              "  <style>\n",
              "    .colab-df-container {\n",
              "      display:flex;\n",
              "      flex-wrap:wrap;\n",
              "      gap: 12px;\n",
              "    }\n",
              "\n",
              "    .colab-df-convert {\n",
              "      background-color: #E8F0FE;\n",
              "      border: none;\n",
              "      border-radius: 50%;\n",
              "      cursor: pointer;\n",
              "      display: none;\n",
              "      fill: #1967D2;\n",
              "      height: 32px;\n",
              "      padding: 0 0 0 0;\n",
              "      width: 32px;\n",
              "    }\n",
              "\n",
              "    .colab-df-convert:hover {\n",
              "      background-color: #E2EBFA;\n",
              "      box-shadow: 0px 1px 2px rgba(60, 64, 67, 0.3), 0px 1px 3px 1px rgba(60, 64, 67, 0.15);\n",
              "      fill: #174EA6;\n",
              "    }\n",
              "\n",
              "    [theme=dark] .colab-df-convert {\n",
              "      background-color: #3B4455;\n",
              "      fill: #D2E3FC;\n",
              "    }\n",
              "\n",
              "    [theme=dark] .colab-df-convert:hover {\n",
              "      background-color: #434B5C;\n",
              "      box-shadow: 0px 1px 3px 1px rgba(0, 0, 0, 0.15);\n",
              "      filter: drop-shadow(0px 1px 2px rgba(0, 0, 0, 0.3));\n",
              "      fill: #FFFFFF;\n",
              "    }\n",
              "  </style>\n",
              "\n",
              "      <script>\n",
              "        const buttonEl =\n",
              "          document.querySelector('#df-50525b91-a5b4-4f10-abd8-698a00c607f7 button.colab-df-convert');\n",
              "        buttonEl.style.display =\n",
              "          google.colab.kernel.accessAllowed ? 'block' : 'none';\n",
              "\n",
              "        async function convertToInteractive(key) {\n",
              "          const element = document.querySelector('#df-50525b91-a5b4-4f10-abd8-698a00c607f7');\n",
              "          const dataTable =\n",
              "            await google.colab.kernel.invokeFunction('convertToInteractive',\n",
              "                                                     [key], {});\n",
              "          if (!dataTable) return;\n",
              "\n",
              "          const docLinkHtml = 'Like what you see? Visit the ' +\n",
              "            '<a target=\"_blank\" href=https://colab.research.google.com/notebooks/data_table.ipynb>data table notebook</a>'\n",
              "            + ' to learn more about interactive tables.';\n",
              "          element.innerHTML = '';\n",
              "          dataTable['output_type'] = 'display_data';\n",
              "          await google.colab.output.renderOutput(dataTable, element);\n",
              "          const docLink = document.createElement('div');\n",
              "          docLink.innerHTML = docLinkHtml;\n",
              "          element.appendChild(docLink);\n",
              "        }\n",
              "      </script>\n",
              "    </div>\n",
              "  </div>\n",
              "  "
            ]
          },
          "metadata": {},
          "execution_count": 12
        }
      ]
    },
    {
      "cell_type": "code",
      "source": [
        "\n",
        "#  Выбор подмножества признаков\n",
        "selected_features = [\"CO(GT)\", \"NMHC(GT)\", \"NOx(GT)\", \"NO2(GT)\", \"T\"]\n",
        "df_selected = df[selected_features]\n",
        "\n",
        "# Обработка данных\n",
        "df_selected = df_selected.dropna()  # Удаление строк с отсутствующими значениями\n",
        "df_selected = df_selected.astype(float)  # Преобразование типов данных во float\n",
        "\n",
        "# Стандартизация данных\n",
        "scaler = StandardScaler()\n",
        "df_selected_scaled = scaler.fit_transform(df_selected)\n"
      ],
      "metadata": {
        "id": "bjdtI5nFwC7A"
      },
      "execution_count": null,
      "outputs": []
    },
    {
      "cell_type": "code",
      "source": [
        "# Получение датасета D1\n",
        "D1 = df_selected\n"
      ],
      "metadata": {
        "id": "I-pDPMr9u0I6"
      },
      "execution_count": null,
      "outputs": []
    },
    {
      "cell_type": "code",
      "source": [
        "\n",
        "# Снижение размерности с помощью PCA (до 2 компонентов)\n",
        "pca = PCA(n_components=2)\n",
        "D2 = pca.fit_transform(D1)\n"
      ],
      "metadata": {
        "id": "pxtScmmau193"
      },
      "execution_count": null,
      "outputs": []
    },
    {
      "cell_type": "code",
      "source": [
        "# Снижение размерности с помощью t-SNE (до 2 компонентов)\n",
        "tsne = TSNE(n_components=2)\n",
        "D3 = tsne.fit_transform(D1)\n"
      ],
      "metadata": {
        "id": "L9VJ9PnVu4a9"
      },
      "execution_count": null,
      "outputs": []
    },
    {
      "cell_type": "code",
      "source": [
        "\n",
        "# Визуализация точек в D2 и D3\n",
        "plt.figure(figsize=(12, 5))\n",
        "\n",
        "plt.subplot(1, 2, 1)\n",
        "plt.scatter(D2[:, 0], D2[:, 1])\n",
        "plt.title(\"Visualization of D2\")\n",
        "plt.xlabel(selected_features[0])\n",
        "plt.ylabel(selected_features[1])\n",
        "\n",
        "plt.subplot(1, 2, 2)\n",
        "plt.scatter(D3[:, 0], D3[:, 1])\n",
        "plt.title(\"Visualization of D3\")\n",
        "plt.xlabel(selected_features[0])\n",
        "plt.ylabel(selected_features[1])\n",
        "\n",
        "plt.show()\n"
      ],
      "metadata": {
        "colab": {
          "base_uri": "https://localhost:8080/",
          "height": 487
        },
        "id": "OPg42W47u6bm",
        "outputId": "45e4f5c5-b330-4966-c0aa-998f4f732164"
      },
      "execution_count": null,
      "outputs": [
        {
          "output_type": "display_data",
          "data": {
            "text/plain": [
              "<Figure size 1200x500 with 2 Axes>"
            ],
            "image/png": "[encoded data removed]"
          },
          "metadata": {}
        }
      ]
    },
    {
      "cell_type": "code",
      "source": [
        "\n",
        "# Кластеризация и оценка качества\n",
        "kmeans = KMeans(n_clusters=2)\n",
        "dbscan = DBSCAN(eps=0.5, min_samples=5)\n",
        "agglo = AgglomerativeClustering(n_clusters=2)\n",
        "\n",
        "clustering_algorithms = [kmeans, dbscan, agglo]\n",
        "\n",
        "for algorithm in clustering_algorithms:\n",
        "    algorithm.fit(D1)\n",
        "    labels = algorithm.labels_\n",
        "    \n",
        "    silhouette = silhouette_score(D1, labels)\n",
        "    db_score = davies_bouldin_score(D1, labels)\n",
        "    print(\"D1:\")\n",
        "    print(\"Clustering Algorithm:\", type(algorithm).__name__)\n",
        "    print(\"Silhouette Score:\", silhouette)\n",
        "    print(\"Davies-Bouldin Score:\", db_score)\n",
        "    print(\"\")\n",
        "\n",
        "for algorithm in clustering_algorithms:\n",
        "    algorithm.fit(D2)\n",
        "    labels = algorithm.labels_\n",
        "    \n",
        "    silhouette = silhouette_score(D2, labels)\n",
        "    db_score = davies_bouldin_score(D2, labels)\n",
        "    print(\"D2:\")\n",
        "    print(\"Clustering Algorithm:\", type(algorithm).__name__)\n",
        "    print(\"Silhouette Score:\", silhouette)\n",
        "    print(\"Davies-Bouldin Score:\", db_score)\n",
        "    print(\"\")\n",
        "\n",
        "for algorithm in clustering_algorithms:\n",
        "    algorithm.fit(D3)\n",
        "    labels = algorithm.labels_\n",
        "    \n",
        "    silhouette = silhouette_score(D3, labels)\n",
        "    db_score = davies_bouldin_score(D3, labels)\n",
        "    print(\"D3:\")\n",
        "    print(\"Clustering Algorithm:\", type(algorithm).__name__)\n",
        "    print(\"Silhouette Score:\", silhouette)\n",
        "    print(\"Davies-Bouldin Score:\", db_score)\n",
        "    print(\"\")\n"
      ],
      "metadata": {
        "colab": {
          "base_uri": "https://localhost:8080/"
        },
        "id": "HL_ebBhyu-3O",
        "outputId": "e86b7979-6504-4369-c88b-513162250cd2"
      },
      "execution_count": null,
      "outputs": [
        {
          "output_type": "stream",
          "name": "stderr",
          "text": [
            "/usr/local/lib/python3.10/dist-packages/sklearn/cluster/_kmeans.py:870: FutureWarning: The default value of `n_init` will change from 10 to 'auto' in 1.4. Set the value of `n_init` explicitly to suppress the warning\n",
            "  warnings.warn(\n"
          ]
        },
        {
          "output_type": "stream",
          "name": "stdout",
          "text": [
            "D1:\n",
            "Clustering Algorithm: KMeans\n",
            "Silhouette Score: 0.602678121511925\n",
            "Davies-Bouldin Score: 0.6116710488804521\n",
            "\n",
            "D1:\n",
            "Clustering Algorithm: DBSCAN\n",
            "Silhouette Score: -0.6383772227113248\n",
            "Davies-Bouldin Score: 1.5770016585228301\n",
            "\n",
            "D1:\n",
            "Clustering Algorithm: AgglomerativeClustering\n",
            "Silhouette Score: 0.43823190151975977\n",
            "Davies-Bouldin Score: 0.8208440649678312\n",
            "\n"
          ]
        },
        {
          "output_type": "stream",
          "name": "stderr",
          "text": [
            "/usr/local/lib/python3.10/dist-packages/sklearn/cluster/_kmeans.py:870: FutureWarning: The default value of `n_init` will change from 10 to 'auto' in 1.4. Set the value of `n_init` explicitly to suppress the warning\n",
            "  warnings.warn(\n"
          ]
        },
        {
          "output_type": "stream",
          "name": "stdout",
          "text": [
            "D2:\n",
            "Clustering Algorithm: KMeans\n",
            "Silhouette Score: 0.6208813452149773\n",
            "Davies-Bouldin Score: 0.5800616855854845\n",
            "\n",
            "D2:\n",
            "Clustering Algorithm: DBSCAN\n",
            "Silhouette Score: -0.3188196668795777\n",
            "Davies-Bouldin Score: 2.162299964833649\n",
            "\n",
            "D2:\n",
            "Clustering Algorithm: AgglomerativeClustering\n",
            "Silhouette Score: 0.6366457354824067\n",
            "Davies-Bouldin Score: 0.516975516286243\n",
            "\n"
          ]
        },
        {
          "output_type": "stream",
          "name": "stderr",
          "text": [
            "/usr/local/lib/python3.10/dist-packages/sklearn/cluster/_kmeans.py:870: FutureWarning: The default value of `n_init` will change from 10 to 'auto' in 1.4. Set the value of `n_init` explicitly to suppress the warning\n",
            "  warnings.warn(\n"
          ]
        },
        {
          "output_type": "stream",
          "name": "stdout",
          "text": [
            "D3:\n",
            "Clustering Algorithm: KMeans\n",
            "Silhouette Score: 0.40144396\n",
            "Davies-Bouldin Score: 0.9757465731280118\n",
            "\n",
            "D3:\n",
            "Clustering Algorithm: DBSCAN\n",
            "Silhouette Score: -0.3468473\n",
            "Davies-Bouldin Score: 1.495401558917545\n",
            "\n",
            "D3:\n",
            "Clustering Algorithm: AgglomerativeClustering\n",
            "Silhouette Score: 0.37909976\n",
            "Davies-Bouldin Score: 1.0648059644313297\n",
            "\n"
          ]
        }
      ]
    },
    {
      "cell_type": "markdown",
      "source": [
        "Метод AgglomerativeClustering оказался лучшим для датасета D2 \n",
        "Метод KMeans - лучший для D3 "
      ],
      "metadata": {
        "id": "eHH6R9Wf0vJd"
      }
    }
  ]
}